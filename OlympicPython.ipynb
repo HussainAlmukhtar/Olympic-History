{
 "cells": [
  {
   "cell_type": "markdown",
   "id": "21ef5a6f-e769-4d29-881d-8f5f87a2e037",
   "metadata": {},
   "source": [
    "### Sayed Hussain"
   ]
  },
  {
   "cell_type": "code",
   "execution_count": 1,
   "id": "a065afbd-6859-4156-8dff-cc78696e819e",
   "metadata": {},
   "outputs": [
    {
     "name": "stdout",
     "output_type": "stream",
     "text": [
      "hi\n"
     ]
    }
   ],
   "source": [
    "print('hi')"
   ]
  },
  {
   "cell_type": "code",
   "execution_count": null,
   "id": "6f841dc1-5f72-4692-8856-edb7c52a75ae",
   "metadata": {},
   "outputs": [],
   "source": []
  },
  {
   "cell_type": "code",
   "execution_count": null,
   "id": "e41b6bae-8b4d-4b10-850c-5912403edfbd",
   "metadata": {},
   "outputs": [],
   "source": []
  },
  {
   "cell_type": "code",
   "execution_count": null,
   "id": "23344a71-737e-4aa1-9efa-c11d4bfd51b0",
   "metadata": {},
   "outputs": [],
   "source": [
    "#TESTING"
   ]
  },
  {
   "cell_type": "markdown",
   "id": "4705e6e6-cbb1-4bcb-9243-5035bb60c784",
   "metadata": {},
   "source": [
    "### Salman"
   ]
  },
  {
   "cell_type": "code",
   "execution_count": 1,
   "id": "90c9cf4d-cda1-48a5-9a7d-3ec76b7b128e",
   "metadata": {},
   "outputs": [
    {
     "name": "stdout",
     "output_type": "stream",
     "text": [
      "Hello Hussain\n"
     ]
    }
   ],
   "source": [
    "print (\"Hello Hussain\")\n"
   ]
  },
  {
   "cell_type": "code",
   "execution_count": null,
   "id": "063f0098-82b3-4fd4-a38b-58f0dc5289a6",
   "metadata": {},
   "outputs": [],
   "source": [
    "bbbb"
   ]
  },
  {
   "cell_type": "code",
   "execution_count": null,
   "id": "8195bc57-a941-4f24-8fd1-94364ae61fb0",
   "metadata": {},
   "outputs": [],
   "source": []
  },
  {
   "cell_type": "code",
   "execution_count": null,
   "id": "73a59493-d110-409a-9c89-58b77aa1e3bf",
   "metadata": {},
   "outputs": [],
   "source": []
  },
  {
   "cell_type": "code",
   "execution_count": null,
   "id": "0343d1ae-7dfd-4f72-a11c-e5dd7aca8a5c",
   "metadata": {},
   "outputs": [],
   "source": []
  }
 ],
 "metadata": {
  "kernelspec": {
   "display_name": "Python 3 (ipykernel)",
   "language": "python",
   "name": "python3"
  },
  "language_info": {
   "codemirror_mode": {
    "name": "ipython",
    "version": 3
   },
   "file_extension": ".py",
   "mimetype": "text/x-python",
   "name": "python",
   "nbconvert_exporter": "python",
   "pygments_lexer": "ipython3",
   "version": "3.13.5"
  }
 },
 "nbformat": 4,
 "nbformat_minor": 5
}
