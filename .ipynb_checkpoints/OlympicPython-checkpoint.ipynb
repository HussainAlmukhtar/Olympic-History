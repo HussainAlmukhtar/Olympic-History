{
 "cells": [
  {
   "cell_type": "markdown",
   "id": "21ef5a6f-e769-4d29-881d-8f5f87a2e037",
   "metadata": {},
   "source": [
    "### Sayed Hussain"
   ]
  },
  {
   "cell_type": "code",
   "execution_count": null,
   "id": "a065afbd-6859-4156-8dff-cc78696e819e",
   "metadata": {},
   "outputs": [],
   "source": []
  },
  {
   "cell_type": "markdown",
   "id": "4705e6e6-cbb1-4bcb-9243-5035bb60c784",
   "metadata": {},
   "source": [
    "### Salman"
   ]
  },
  {
   "cell_type": "code",
   "execution_count": null,
   "id": "90c9cf4d-cda1-48a5-9a7d-3ec76b7b128e",
   "metadata": {},
   "outputs": [],
   "source": []
  }
 ],
 "metadata": {
  "kernelspec": {
   "display_name": "Python 3 (ipykernel)",
   "language": "python",
   "name": "python3"
  },
  "language_info": {
   "codemirror_mode": {
    "name": "ipython",
    "version": 3
   },
   "file_extension": ".py",
   "mimetype": "text/x-python",
   "name": "python",
   "nbconvert_exporter": "python",
   "pygments_lexer": "ipython3",
   "version": "3.13.5"
  }
 },
 "nbformat": 4,
 "nbformat_minor": 5
}
